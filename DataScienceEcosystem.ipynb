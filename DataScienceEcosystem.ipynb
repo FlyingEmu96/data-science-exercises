{
  "metadata": {
    "kernelspec": {
      "name": "python",
      "display_name": "Python (Pyodide)",
      "language": "python"
    },
    "language_info": {
      "codemirror_mode": {
        "name": "python",
        "version": 3
      },
      "file_extension": ".py",
      "mimetype": "text/x-python",
      "name": "python",
      "nbconvert_exporter": "python",
      "pygments_lexer": "ipython3",
      "version": "3.8"
    }
  },
  "nbformat_minor": 5,
  "nbformat": 4,
  "cells": [
    {
      "id": "1949c6bb-cd56-463e-b2fc-90e219bde86b",
      "cell_type": "markdown",
      "source": "# Data Science Tools and Ecosystem #",
      "metadata": {}
    },
    {
      "id": "c0ac4911-c48b-40f5-bb5b-6d3ce27d2d64",
      "cell_type": "markdown",
      "source": "In this notebook, Data Science Tools and Ecosystem are summarized.\n",
      "metadata": {}
    },
    {
      "id": "ba6d7330-dc7f-4ab6-8960-34b3501a2410",
      "cell_type": "markdown",
      "source": "Some of the popular languages that Data Scientists use are:\n\nPython,C++,R,SPSS,JAVA\n",
      "metadata": {}
    },
    {
      "id": "baed925d-ddb6-46dd-bbb8-716b1f572c09",
      "cell_type": "markdown",
      "source": "Some of the commonly used libraries used by Data Scientists include:\n\nTensorFlow,Pandas,Mathplotlib",
      "metadata": {}
    },
    {
      "id": "e0c9ce63-7936-484c-b9d0-0183c59bcd73",
      "cell_type": "markdown",
      "source": "# Data Science Tools\n<div>\n    <h3>JupyterLab</h3>\n</div>\n<div>\n    <h3>VS Code (with Data Science Extensions)</h3>\n</div>\n<div>\n    <h3>Spyder</h3>\n</div>\n\n",
      "metadata": {}
    },
    {
      "id": "7ecfe37b-3693-44a4-91ab-2c85d47e8573",
      "cell_type": "markdown",
      "source": "### Below are a few examples of evaluating arithmetic expressions in Python.\n",
      "metadata": {}
    },
    {
      "id": "c0c4f95a-5c87-401f-87ce-aa76eca224a2",
      "cell_type": "code",
      "source": "1+1",
      "metadata": {
        "trusted": true,
        "scrolled": true
      },
      "outputs": [
        {
          "execution_count": 7,
          "output_type": "execute_result",
          "data": {
            "text/plain": "2"
          },
          "metadata": {}
        }
      ],
      "execution_count": 7
    },
    {
      "id": "7ce3c93f-fe74-4308-b600-90a83e1ea9f6",
      "cell_type": "code",
      "source": "(3*4)+5 #This a simple arithmetic expression to mutiply then add integers",
      "metadata": {
        "trusted": true
      },
      "outputs": [
        {
          "execution_count": 9,
          "output_type": "execute_result",
          "data": {
            "text/plain": "17"
          },
          "metadata": {}
        }
      ],
      "execution_count": 9
    },
    {
      "id": "0c88218f-702e-4364-9175-75ba5c8316fd",
      "cell_type": "code",
      "source": "# This will convert 200 minutes to hours by dividing by 60 and rounding to two decimal places\nminutes = 200\nhours = round(minutes / 60, 2)\nprint(f\"{minutes} minutes is approximately {hours} hours.\")",
      "metadata": {
        "trusted": true
      },
      "outputs": [
        {
          "name": "stdout",
          "text": "200 minutes is approximately 3.33 hours.\n",
          "output_type": "stream"
        }
      ],
      "execution_count": 10
    },
    {
      "id": "e4622d1b-151b-464f-93a6-c5d4c611dc12",
      "cell_type": "markdown",
      "source": "**Objectives:**\n\n- List popular languages for Data Science\n- Demonstrate how to use Jupyter Notebook effectively\n- Introduce basic Python programming concepts\n- Perform simple arithmetic operations in Python\n- Create and evaluate variables in Python\n",
      "metadata": {}
    },
    {
      "id": "e352ea9f-a18b-45cb-b950-99f23585f3d4",
      "cell_type": "markdown",
      "source": "## Author\n\nAmir A.\n",
      "metadata": {}
    }
  ]
}